{
 "cells": [
  {
   "cell_type": "code",
   "execution_count": 1,
   "id": "b9e993d2-ddd1-49bb-883e-5b6bb753c332",
   "metadata": {},
   "outputs": [],
   "source": [
    "import numpy as np\n",
    "import pandas as pd\n",
    "import matplotlib.pyplot as plt\n",
    "import seaborn as sbn"
   ]
  },
  {
   "cell_type": "code",
   "execution_count": 2,
   "id": "317e4c60-b38c-4d91-a27d-38305fa72ec8",
   "metadata": {},
   "outputs": [],
   "source": [
    "phishing = pd.read_csv('dataset/phishing.csv').dropna() * 1\n",
    "phishing = phishing.astype({'Encoding':'string','HTML content':'int'})\n",
    "clean = pd.read_csv('dataset/clean.csv').dropna() * 1\n",
    "clean = clean.astype({'Encoding':'string','HTML content':'int'})\n",
    "df =  pd.concat([phishing,clean])"
   ]
  },
  {
   "cell_type": "code",
   "execution_count": 4,
   "id": "3b0bbdaa-525f-4023-9f69-32a4d556dac1",
   "metadata": {},
   "outputs": [
    {
     "name": "stdout",
     "output_type": "stream",
     "text": [
      "0 Unnamed: 0\n",
      "1 @ in URLs\n",
      "2 Attachments\n",
      "3 BanWords\n",
      "4 Css\n",
      "5 Encoding\n",
      "6 External Resources\n",
      "7 Flash content\n",
      "8 HTML content\n",
      "9 Html Form\n",
      "10 Html iFrame\n",
      "11 IPs in URLs\n",
      "12 Javascript\n",
      "13 Phishy\n",
      "14 URLs\n"
     ]
    },
    {
     "data": {
      "text/html": [
       "<div>\n",
       "<style scoped>\n",
       "    .dataframe tbody tr th:only-of-type {\n",
       "        vertical-align: middle;\n",
       "    }\n",
       "\n",
       "    .dataframe tbody tr th {\n",
       "        vertical-align: top;\n",
       "    }\n",
       "\n",
       "    .dataframe thead th {\n",
       "        text-align: right;\n",
       "    }\n",
       "</style>\n",
       "<table border=\"1\" class=\"dataframe\">\n",
       "  <thead>\n",
       "    <tr style=\"text-align: right;\">\n",
       "      <th></th>\n",
       "      <th>count</th>\n",
       "      <th>mean</th>\n",
       "      <th>std</th>\n",
       "      <th>min</th>\n",
       "      <th>25%</th>\n",
       "      <th>50%</th>\n",
       "      <th>75%</th>\n",
       "      <th>max</th>\n",
       "    </tr>\n",
       "  </thead>\n",
       "  <tbody>\n",
       "    <tr>\n",
       "      <th>Unnamed: 0</th>\n",
       "      <td>6801.0</td>\n",
       "      <td>1898.028378</td>\n",
       "      <td>1259.928668</td>\n",
       "      <td>0.0</td>\n",
       "      <td>854.0</td>\n",
       "      <td>1704.0</td>\n",
       "      <td>2853.0</td>\n",
       "      <td>4553.0</td>\n",
       "    </tr>\n",
       "    <tr>\n",
       "      <th>@ in URLs</th>\n",
       "      <td>6801.0</td>\n",
       "      <td>0.001029</td>\n",
       "      <td>0.032068</td>\n",
       "      <td>0.0</td>\n",
       "      <td>0.0</td>\n",
       "      <td>0.0</td>\n",
       "      <td>0.0</td>\n",
       "      <td>1.0</td>\n",
       "    </tr>\n",
       "    <tr>\n",
       "      <th>Attachments</th>\n",
       "      <td>6801.0</td>\n",
       "      <td>0.000000</td>\n",
       "      <td>0.000000</td>\n",
       "      <td>0.0</td>\n",
       "      <td>0.0</td>\n",
       "      <td>0.0</td>\n",
       "      <td>0.0</td>\n",
       "      <td>0.0</td>\n",
       "    </tr>\n",
       "    <tr>\n",
       "      <th>BanWords</th>\n",
       "      <td>6801.0</td>\n",
       "      <td>15.660932</td>\n",
       "      <td>17.133825</td>\n",
       "      <td>0.0</td>\n",
       "      <td>3.0</td>\n",
       "      <td>10.0</td>\n",
       "      <td>22.0</td>\n",
       "      <td>143.0</td>\n",
       "    </tr>\n",
       "    <tr>\n",
       "      <th>Css</th>\n",
       "      <td>6801.0</td>\n",
       "      <td>0.000000</td>\n",
       "      <td>0.000000</td>\n",
       "      <td>0.0</td>\n",
       "      <td>0.0</td>\n",
       "      <td>0.0</td>\n",
       "      <td>0.0</td>\n",
       "      <td>0.0</td>\n",
       "    </tr>\n",
       "    <tr>\n",
       "      <th>External Resources</th>\n",
       "      <td>6801.0</td>\n",
       "      <td>0.000000</td>\n",
       "      <td>0.000000</td>\n",
       "      <td>0.0</td>\n",
       "      <td>0.0</td>\n",
       "      <td>0.0</td>\n",
       "      <td>0.0</td>\n",
       "      <td>0.0</td>\n",
       "    </tr>\n",
       "    <tr>\n",
       "      <th>Flash content</th>\n",
       "      <td>6801.0</td>\n",
       "      <td>0.001176</td>\n",
       "      <td>0.034280</td>\n",
       "      <td>0.0</td>\n",
       "      <td>0.0</td>\n",
       "      <td>0.0</td>\n",
       "      <td>0.0</td>\n",
       "      <td>1.0</td>\n",
       "    </tr>\n",
       "    <tr>\n",
       "      <th>HTML content</th>\n",
       "      <td>6801.0</td>\n",
       "      <td>0.731069</td>\n",
       "      <td>0.443437</td>\n",
       "      <td>0.0</td>\n",
       "      <td>0.0</td>\n",
       "      <td>1.0</td>\n",
       "      <td>1.0</td>\n",
       "      <td>1.0</td>\n",
       "    </tr>\n",
       "    <tr>\n",
       "      <th>Html Form</th>\n",
       "      <td>6801.0</td>\n",
       "      <td>0.021762</td>\n",
       "      <td>0.145915</td>\n",
       "      <td>0.0</td>\n",
       "      <td>0.0</td>\n",
       "      <td>0.0</td>\n",
       "      <td>0.0</td>\n",
       "      <td>1.0</td>\n",
       "    </tr>\n",
       "    <tr>\n",
       "      <th>Html iFrame</th>\n",
       "      <td>6801.0</td>\n",
       "      <td>0.001617</td>\n",
       "      <td>0.040187</td>\n",
       "      <td>0.0</td>\n",
       "      <td>0.0</td>\n",
       "      <td>0.0</td>\n",
       "      <td>0.0</td>\n",
       "      <td>1.0</td>\n",
       "    </tr>\n",
       "    <tr>\n",
       "      <th>IPs in URLs</th>\n",
       "      <td>6801.0</td>\n",
       "      <td>0.223350</td>\n",
       "      <td>0.416521</td>\n",
       "      <td>0.0</td>\n",
       "      <td>0.0</td>\n",
       "      <td>0.0</td>\n",
       "      <td>0.0</td>\n",
       "      <td>1.0</td>\n",
       "    </tr>\n",
       "    <tr>\n",
       "      <th>Javascript</th>\n",
       "      <td>6801.0</td>\n",
       "      <td>0.000000</td>\n",
       "      <td>0.000000</td>\n",
       "      <td>0.0</td>\n",
       "      <td>0.0</td>\n",
       "      <td>0.0</td>\n",
       "      <td>0.0</td>\n",
       "      <td>0.0</td>\n",
       "    </tr>\n",
       "    <tr>\n",
       "      <th>Phishy</th>\n",
       "      <td>6801.0</td>\n",
       "      <td>0.668284</td>\n",
       "      <td>0.470864</td>\n",
       "      <td>0.0</td>\n",
       "      <td>0.0</td>\n",
       "      <td>1.0</td>\n",
       "      <td>1.0</td>\n",
       "      <td>1.0</td>\n",
       "    </tr>\n",
       "    <tr>\n",
       "      <th>URLs</th>\n",
       "      <td>6801.0</td>\n",
       "      <td>7.578885</td>\n",
       "      <td>14.017699</td>\n",
       "      <td>0.0</td>\n",
       "      <td>0.0</td>\n",
       "      <td>2.0</td>\n",
       "      <td>7.0</td>\n",
       "      <td>127.0</td>\n",
       "    </tr>\n",
       "  </tbody>\n",
       "</table>\n",
       "</div>"
      ],
      "text/plain": [
       "                     count         mean          std  min    25%     50%  \\\n",
       "Unnamed: 0          6801.0  1898.028378  1259.928668  0.0  854.0  1704.0   \n",
       "@ in URLs           6801.0     0.001029     0.032068  0.0    0.0     0.0   \n",
       "Attachments         6801.0     0.000000     0.000000  0.0    0.0     0.0   \n",
       "BanWords            6801.0    15.660932    17.133825  0.0    3.0    10.0   \n",
       "Css                 6801.0     0.000000     0.000000  0.0    0.0     0.0   \n",
       "External Resources  6801.0     0.000000     0.000000  0.0    0.0     0.0   \n",
       "Flash content       6801.0     0.001176     0.034280  0.0    0.0     0.0   \n",
       "HTML content        6801.0     0.731069     0.443437  0.0    0.0     1.0   \n",
       "Html Form           6801.0     0.021762     0.145915  0.0    0.0     0.0   \n",
       "Html iFrame         6801.0     0.001617     0.040187  0.0    0.0     0.0   \n",
       "IPs in URLs         6801.0     0.223350     0.416521  0.0    0.0     0.0   \n",
       "Javascript          6801.0     0.000000     0.000000  0.0    0.0     0.0   \n",
       "Phishy              6801.0     0.668284     0.470864  0.0    0.0     1.0   \n",
       "URLs                6801.0     7.578885    14.017699  0.0    0.0     2.0   \n",
       "\n",
       "                       75%     max  \n",
       "Unnamed: 0          2853.0  4553.0  \n",
       "@ in URLs              0.0     1.0  \n",
       "Attachments            0.0     0.0  \n",
       "BanWords              22.0   143.0  \n",
       "Css                    0.0     0.0  \n",
       "External Resources     0.0     0.0  \n",
       "Flash content          0.0     1.0  \n",
       "HTML content           1.0     1.0  \n",
       "Html Form              0.0     1.0  \n",
       "Html iFrame            0.0     1.0  \n",
       "IPs in URLs            0.0     1.0  \n",
       "Javascript             0.0     0.0  \n",
       "Phishy                 1.0     1.0  \n",
       "URLs                   7.0   127.0  "
      ]
     },
     "execution_count": 4,
     "metadata": {},
     "output_type": "execute_result"
    }
   ],
   "source": [
    "i = 0\n",
    "for col in df.columns:\n",
    "    print(i,col)\n",
    "    i+=1\n",
    "\n",
    "df.describe().T"
   ]
  },
  {
   "cell_type": "code",
   "execution_count": 5,
   "id": "9df13a07-ee2c-440d-81ec-6b99e113e5e2",
   "metadata": {},
   "outputs": [
    {
     "name": "stdout",
     "output_type": "stream",
     "text": [
      "      @ in URLs  BanWords  Flash content  HTML content  Html Form  \\\n",
      "0             0        22              0             1          0   \n",
      "1             0        13              0             1          0   \n",
      "2             0        27              0             1          0   \n",
      "3             0        79              0             1          0   \n",
      "4             0         5              0             1          0   \n",
      "...         ...       ...            ...           ...        ...   \n",
      "2251          0         0              0             0          0   \n",
      "2252          0         0              0             0          0   \n",
      "2253          0         0              0             0          0   \n",
      "2254          0         2              0             0          0   \n",
      "2255          0         9              0             0          0   \n",
      "\n",
      "      Html iFrame  IPs in URLs  URLs  Phishy  \n",
      "0               0            0     2       1  \n",
      "1               0            1     7       1  \n",
      "2               0            1    12       1  \n",
      "3               0            1    15       1  \n",
      "4               0            0    13       1  \n",
      "...           ...          ...   ...     ...  \n",
      "2251            0            0     0       0  \n",
      "2252            0            0     1       0  \n",
      "2253            0            0     0       0  \n",
      "2254            0            0     0       0  \n",
      "2255            0            0     0       0  \n",
      "\n",
      "[6801 rows x 9 columns]\n"
     ]
    }
   ],
   "source": [
    "df = df.drop(df.columns[[0,2,4,6,5,12]], axis = 1)\n",
    "ph = df.pop('Phishy')\n",
    "df['Phishy'] = ph\n",
    "print(df)"
   ]
  },
  {
   "cell_type": "code",
   "execution_count": 7,
   "id": "9bee5385-f283-4716-a02c-86c23a2d72ff",
   "metadata": {},
   "outputs": [],
   "source": [
    "x = df.iloc[:,:-1].values\n",
    "y = df.iloc[:,-1].values"
   ]
  },
  {
   "cell_type": "code",
   "execution_count": 34,
   "id": "9708fb08-a698-4d1a-bdf1-bd902cfdac25",
   "metadata": {},
   "outputs": [],
   "source": [
    "from sklearn.model_selection import train_test_split\n",
    "(x_train,x_test, y_train,y_test) = train_test_split(x,y,test_size = 0.25, random_state = 0)"
   ]
  },
  {
   "cell_type": "code",
   "execution_count": 35,
   "id": "d316c01a-768a-40e0-935a-107803f25114",
   "metadata": {},
   "outputs": [],
   "source": [
    "from sklearn.preprocessing import StandardScaler\n",
    "sc = StandardScaler()\n",
    "x_train = sc.fit_transform(x_train)\n",
    "x_test = sc.transform(x_test)"
   ]
  },
  {
   "cell_type": "code",
   "execution_count": 36,
   "id": "e05295b9-6995-4444-8ca0-f5e449df6a96",
   "metadata": {},
   "outputs": [
    {
     "name": "stdout",
     "output_type": "stream",
     "text": [
      "Original data shape, (5100, 8)\n",
      "Resampled data shape, (6867, 8)\n"
     ]
    }
   ],
   "source": [
    "from imblearn.over_sampling import ADASYN\n",
    "print('Original data shape,', x_train.shape)\n",
    "ada = ADASYN()\n",
    "x_train, y_train = ada.fit_resample(x_train,y_train)\n",
    "print('Resampled data shape,', x_train.shape)"
   ]
  },
  {
   "cell_type": "code",
   "execution_count": 37,
   "id": "3e7c2c5c-ccbe-4764-a2f5-0f26d4f3e884",
   "metadata": {},
   "outputs": [
    {
     "data": {
      "text/plain": [
       "3410"
      ]
     },
     "execution_count": 37,
     "metadata": {},
     "output_type": "execute_result"
    }
   ],
   "source": [
    "np.sum(y_train)"
   ]
  },
  {
   "cell_type": "code",
   "execution_count": 38,
   "id": "35791a69-20e6-48c5-a363-a4b627c51be3",
   "metadata": {},
   "outputs": [],
   "source": [
    "def cf_mat(model,lb):\n",
    "    from sklearn.metrics import confusion_matrix, accuracy_score, f1_score\n",
    "    import seaborn as snf\n",
    "    labels = ['not phishing','phishing']\n",
    "    plt.figure(figsize=(11,11))\n",
    "    model.fit(x_train, y_train)\n",
    "    y_pred = model.predict(x_test)\n",
    "    snf.heatmap(confusion_matrix(y_test,y_pred), square = True, annot=True,fmt='d',xticklabels=labels,yticklabels=labels)\n",
    "    plt.ylabel(\"True value\")\n",
    "    plt.xlabel(\"Predicted value\")\n",
    "    plt.title(lb)\n",
    "    plt.show()\n",
    "    print(\"Accuracy of the model on\",lb,\"is: \",\"{:.2f}\".format(accuracy_score(y_test, y_pred) * 100),'%')\n",
    "    print(\"F1 score of the model on\",lb,\"is: \",\"{:.2f}\".format(f1_score(y_test, y_pred) * 100),'%')"
   ]
  },
  {
   "cell_type": "code",
   "execution_count": 39,
   "id": "43d4f005-1b91-4443-95b7-44e19dc11595",
   "metadata": {},
   "outputs": [],
   "source": [
    "from sklearn.naive_bayes import GaussianNB\n",
    "from sklearn.tree import DecisionTreeClassifier\n",
    "from sklearn.ensemble import RandomForestClassifier\n",
    "from sklearn.linear_model import LogisticRegression\n",
    "from sklearn.neighbors import KNeighborsClassifier\n",
    "from sklearn.svm import LinearSVC, SVC"
   ]
  },
  {
   "cell_type": "code",
   "execution_count": 40,
   "id": "581aaf13-4464-4f7a-8928-ce69a88b3ebf",
   "metadata": {},
   "outputs": [
    {
     "data": {
      "image/png": "[encoded data removed]",
      "text/plain": [
       "<Figure size 792x792 with 2 Axes>"
      ]
     },
     "metadata": {
      "needs_background": "light"
     },
     "output_type": "display_data"
    },
    {
     "name": "stdout",
     "output_type": "stream",
     "text": [
      "Accuracy of the model on Naive Bayes is:  58.91 %\n",
      "F1 score of the model on Naive Bayes is:  55.56 %\n"
     ]
    }
   ],
   "source": [
    "nb_classifier = GaussianNB()\n",
    "cf_mat(nb_classifier,\"Naive Bayes\")"
   ]
  },
  {
   "cell_type": "code",
   "execution_count": 41,
   "id": "a5d08c45-8069-4e89-acb6-6ebc9e172474",
   "metadata": {},
   "outputs": [
    {
     "data": {
      "image/png": "[encoded data removed]",
      "text/plain": [
       "<Figure size 792x792 with 2 Axes>"
      ]
     },
     "metadata": {
      "needs_background": "light"
     },
     "output_type": "display_data"
    },
    {
     "name": "stdout",
     "output_type": "stream",
     "text": [
      "Accuracy of the model on Logistic Regression is:  81.95 %\n",
      "F1 score of the model on Logistic Regression is:  84.66 %\n"
     ]
    }
   ],
   "source": [
    "lr_classifier = LogisticRegression()\n",
    "cf_mat(lr_classifier,\"Logistic Regression\")"
   ]
  },
  {
   "cell_type": "code",
   "execution_count": 42,
   "id": "6d87732e-833e-4d3e-9b84-7b273751ce20",
   "metadata": {},
   "outputs": [
    {
     "data": {
      "image/png": "[encoded data removed]",
      "text/plain": [
       "<Figure size 792x792 with 2 Axes>"
      ]
     },
     "metadata": {
      "needs_background": "light"
     },
     "output_type": "display_data"
    },
    {
     "name": "stdout",
     "output_type": "stream",
     "text": [
      "Accuracy of the model on Support Vector Machine is:  87.95 %\n",
      "F1 score of the model on Support Vector Machine is:  90.27 %\n"
     ]
    }
   ],
   "source": [
    "ker_classifier = SVC(kernel='rbf', random_state=0)\n",
    "cf_mat(ker_classifier,\"Support Vector Machine\")"
   ]
  },
  {
   "cell_type": "code",
   "execution_count": 43,
   "id": "ce361e48-7c53-4e9c-b7d0-325dc0da4154",
   "metadata": {},
   "outputs": [
    {
     "data": {
      "image/png": "[encoded data removed]",
      "text/plain": [
       "<Figure size 792x792 with 2 Axes>"
      ]
     },
     "metadata": {
      "needs_background": "light"
     },
     "output_type": "display_data"
    },
    {
     "name": "stdout",
     "output_type": "stream",
     "text": [
      "Accuracy of the model on Decision Tree is:  93.30 %\n",
      "F1 score of the model on Decision Tree is:  94.84 %\n"
     ]
    }
   ],
   "source": [
    "dt_classifier = DecisionTreeClassifier(criterion='entropy', random_state=0)\n",
    "cf_mat(dt_classifier,\"Decision Tree\")"
   ]
  },
  {
   "cell_type": "code",
   "execution_count": 61,
   "id": "d0deb28b-3bfd-4c49-b8c3-dc17fa4a5f9d",
   "metadata": {},
   "outputs": [
    {
     "data": {
      "image/png": "[encoded data removed]",
      "text/plain": [
       "<Figure size 792x792 with 2 Axes>"
      ]
     },
     "metadata": {
      "needs_background": "light"
     },
     "output_type": "display_data"
    },
    {
     "name": "stdout",
     "output_type": "stream",
     "text": [
      "Accuracy of the model on Random Forest is:  93.89 %\n",
      "F1 score of the model on Random Forest is:  95.30 %\n"
     ]
    }
   ],
   "source": [
    "rf_classifier = RandomForestClassifier(random_state=0, criterion='gini', n_estimators=100)\n",
    "cf_mat(rf_classifier,\"Random Forest\")"
   ]
  },
  {
   "cell_type": "code",
   "execution_count": null,
   "id": "38da4a82-92b8-447a-b632-82e984922227",
   "metadata": {},
   "outputs": [],
   "source": []
  }
 ],
 "metadata": {
  "kernelspec": {
   "display_name": "Python 3 (ipykernel)",
   "language": "python",
   "name": "python3"
  },
  "language_info": {
   "codemirror_mode": {
    "name": "ipython",
    "version": 3
   },
   "file_extension": ".py",
   "mimetype": "text/x-python",
   "name": "python",
   "nbconvert_exporter": "python",
   "pygments_lexer": "ipython3",
   "version": "3.10.2"
  }
 },
 "nbformat": 4,
 "nbformat_minor": 5
}
